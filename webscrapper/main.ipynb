{
 "cells": [
  {
   "cell_type": "markdown",
   "metadata": {},
   "source": [
    "Imports"
   ]
  },
  {
   "cell_type": "code",
   "execution_count": 57,
   "metadata": {},
   "outputs": [],
   "source": [
    "from time import sleep\n",
    "import pickle, json, re\n",
    "\n",
    "from selenium import webdriver\n",
    "from selenium.webdriver.chrome.service import Service\n",
    "from selenium.webdriver.chrome.options import Options\n",
    "from selenium.webdriver.common.by import By\n",
    "from selenium.webdriver.common.keys import Keys\n",
    "\n",
    "\n",
    "from webdriver_manager.chrome import ChromeDriverManager\n",
    "\n",
    "from word2number import w2n"
   ]
  },
  {
   "cell_type": "markdown",
   "metadata": {},
   "source": [
    "WebDriver Initialization"
   ]
  },
  {
   "cell_type": "code",
   "execution_count": 58,
   "metadata": {},
   "outputs": [],
   "source": [
    "options = Options()\n",
    "options.add_argument(\"start-maximized\")\n",
    "driver = webdriver.Chrome(\n",
    "    service=Service(ChromeDriverManager().install()), options=options\n",
    ")"
   ]
  },
  {
   "cell_type": "markdown",
   "metadata": {},
   "source": [
    "Location"
   ]
  },
  {
   "cell_type": "code",
   "execution_count": 59,
   "metadata": {},
   "outputs": [],
   "source": [
    "driver.get(\"https://www.swiggy.com/city/delhi\")"
   ]
  },
  {
   "cell_type": "markdown",
   "metadata": {},
   "source": [
    "Scroll to the Bottom"
   ]
  },
  {
   "cell_type": "code",
   "execution_count": 9,
   "metadata": {},
   "outputs": [],
   "source": [
    "scroll_pause_time = 2\n",
    "last_height = driver.execute_script(\"return document.body.scrollHeight\")\n",
    "\n",
    "while True:\n",
    "    # Scroll down to bottom\n",
    "    driver.find_element(By.CLASS_NAME, \"fBowAU\").click()\n",
    "    # driver.execute_script(\"window.scrollTo(0, document.body.scrollHeight);\")\n",
    "    driver.execute_script(\n",
    "        \"window.scrollTo({top: document.body.scrollHeight-3000,left: 0,behavior: 'smooth'});\"\n",
    "    )\n",
    "\n",
    "    # Wait to load page\n",
    "    sleep(scroll_pause_time)\n",
    "\n",
    "    # Calculate new scroll height and compare with last scroll height\n",
    "    new_height = driver.execute_script(\"return document.body.scrollHeight\")\n",
    "    if new_height == last_height:\n",
    "        break\n",
    "    last_height = new_height\n",
    "    sleep(1)"
   ]
  },
  {
   "cell_type": "markdown",
   "metadata": {},
   "source": [
    "Create Restraunt's Links List"
   ]
  },
  {
   "cell_type": "code",
   "execution_count": 10,
   "metadata": {},
   "outputs": [
    {
     "name": "stdout",
     "output_type": "stream",
     "text": [
      "Restraunts Found: 1362\n"
     ]
    }
   ],
   "source": [
    "restraunt_elements_list = driver.find_elements(\n",
    "    by=By.CSS_SELECTOR, value=\".jXGZuP a\")\n",
    "restraunt_links_list = []\n",
    "for restraunt_element in restraunt_elements_list:\n",
    "    if (\n",
    "        restraunt_element.get_attribute(\"href\") != \"https://www.swiggy.com/search\"\n",
    "        and restraunt_element.get_attribute(\"href\") != None\n",
    "    ):\n",
    "        restraunt_links_list.append(restraunt_element.get_attribute(\"href\"))\n",
    "\n",
    "print(f\"Restraunts Found: {len(restraunt_links_list)}\")\n",
    "\n",
    "with open(\"restraunt_links_list.log\", \"wb\") as file1:\n",
    "    pickle.dump(restraunt_links_list, file1)"
   ]
  },
  {
   "cell_type": "markdown",
   "metadata": {},
   "source": [
    "Verify Restraunt's Links List"
   ]
  },
  {
   "cell_type": "code",
   "execution_count": 26,
   "metadata": {},
   "outputs": [
    {
     "name": "stdout",
     "output_type": "stream",
     "text": [
      "Links Saved: 1362\n"
     ]
    }
   ],
   "source": [
    "with open(\"restraunt_links_list.log\", \"rb\") as file1:\n",
    "    restraunt_links_list = pickle.load(file1)\n",
    "print(f\"Links Saved: {len(restraunt_links_list)}\")\n",
    "data = []"
   ]
  },
  {
   "cell_type": "markdown",
   "metadata": {},
   "source": [
    "Collect Data"
   ]
  },
  {
   "cell_type": "code",
   "execution_count": 63,
   "metadata": {},
   "outputs": [],
   "source": [
    "for restraunt_number in range(1244, len(restraunt_links_list)):\n",
    "    restraunt_data = {}\n",
    "\n",
    "    driver.get(restraunt_links_list[restraunt_number])\n",
    "\n",
    "    restraunt_data[\"restraunt_name\"] = driver.find_element(by=By.CLASS_NAME, value=\"RestaurantNameAddress_name__2IaTv\").text\n",
    "    \n",
    "    restraunt_data[\"restraunt_category\"] = (\n",
    "        driver.find_element(\n",
    "            by=By.CLASS_NAME, value=\"RestaurantNameAddress_cuisines__mBHr2\").text\n",
    "    ).split(\", \")\n",
    "\n",
    "    title_string = driver.find_element(\n",
    "        by=By.CSS_SELECTOR, value=\"head meta[name=og_title]\"\n",
    "    ).get_attribute(\"content\")\n",
    "    restraunt_data[\"restraunt_address\"] = re.search(r'\\|([^|]+)$', title_string).group(1).strip()\n",
    "\n",
    "    restraunt_data[\"rating\"] = driver.find_element(\n",
    "        by=By.CSS_SELECTOR, value=\".RestaurantRatings_avgRating__1TOWY span:nth-child(2)\"\n",
    "    ).text\n",
    "\n",
    "    restraunt_data[\"no_of_ratings\"] = driver.find_element(\n",
    "        by=By.CLASS_NAME, value=\"RestaurantRatings_totalRatings__3d6Zc\").text\n",
    "\n",
    "    price_string = driver.find_element(\n",
    "        by=By.CSS_SELECTOR, value=\".RestaurantTimeCost_item__2HCUz:nth-child(2) span\").text\n",
    "    restraunt_data[\"average_cost\"] = int(int(re.search(r'₹(\\d+)', price_string).group(\n",
    "        1).strip())/w2n.word_to_num(re.search(r'(\\w+)$', price_string).group(1).strip()))\n",
    "    data.append(restraunt_data)"
   ]
  },
  {
   "cell_type": "markdown",
   "metadata": {},
   "source": [
    "Store Data to JSON File"
   ]
  },
  {
   "cell_type": "code",
   "execution_count": 62,
   "metadata": {},
   "outputs": [],
   "source": [
    "json_data = json.dumps(data, indent=4)\n",
    "with open(\"data1.json\", \"w\") as file2:\n",
    "    json.dump(data, file2)"
   ]
  },
  {
   "cell_type": "code",
   "execution_count": 64,
   "metadata": {},
   "outputs": [
    {
     "name": "stdout",
     "output_type": "stream",
     "text": [
      "1267\n"
     ]
    }
   ],
   "source": [
    "print(len(data))"
   ]
  },
  {
   "cell_type": "markdown",
   "metadata": {},
   "source": [
    "Quit WebDriver"
   ]
  },
  {
   "cell_type": "code",
   "execution_count": null,
   "metadata": {},
   "outputs": [],
   "source": [
    "driver.quit()"
   ]
  }
 ],
 "metadata": {
  "kernelspec": {
   "display_name": "Python 3.10.5 ('.venv': venv)",
   "language": "python",
   "name": "python3"
  },
  "language_info": {
   "codemirror_mode": {
    "name": "ipython",
    "version": 3
   },
   "file_extension": ".py",
   "mimetype": "text/x-python",
   "name": "python",
   "nbconvert_exporter": "python",
   "pygments_lexer": "ipython3",
   "version": "3.11.6"
  },
  "orig_nbformat": 4,
  "vscode": {
   "interpreter": {
    "hash": "c801545b20fdcd3b20ea4e7c2f180905fb5f7658b3d72bd2aca99bed75c2b260"
   }
  }
 },
 "nbformat": 4,
 "nbformat_minor": 2
}
